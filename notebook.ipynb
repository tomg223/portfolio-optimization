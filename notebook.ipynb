{
 "cells": [
  {
   "cell_type": "code",
   "execution_count": 8,
   "metadata": {},
   "outputs": [],
   "source": [
    "import pandas as pd\n",
    "import numpy as np\n",
    "import matplotlib.pyplot as plt\n",
    "import yfinance as yf\n",
    "from datetime import datetime\n",
    "from typing import Tuple\n"
   ]
  },
  {
   "cell_type": "markdown",
   "metadata": {},
   "source": [
    "# Section 1: Setup\n"
   ]
  },
  {
   "cell_type": "markdown",
   "metadata": {},
   "source": [
    "## Load Tickers"
   ]
  },
  {
   "cell_type": "code",
   "execution_count": 9,
   "metadata": {},
   "outputs": [],
   "source": [
    "tickers = ['AAPL', 'MSFT', 'GOOGL']\n",
    "years = 5\n",
    "\n",
    "\n",
    "start_date = datetime.now() - pd.Timedelta(days=365*years)\n",
    "end_date = datetime.now()"
   ]
  },
  {
   "cell_type": "code",
   "execution_count": 10,
   "metadata": {},
   "outputs": [
    {
     "name": "stderr",
     "output_type": "stream",
     "text": [
      "[*********************100%***********************]  1 of 1 completed\n",
      "[*********************100%***********************]  1 of 1 completed\n",
      "[*********************100%***********************]  1 of 1 completed\n"
     ]
    }
   ],
   "source": [
    "hist_data = pd.DataFrame()\n",
    "\n",
    "for ticker in tickers:\n",
    "    hist_data[ticker] = yf.download(ticker, start=\"2020-01-01\", end=\"2024-12-01\")['Adj Close']"
   ]
  },
  {
   "cell_type": "code",
   "execution_count": 11,
   "metadata": {},
   "outputs": [
    {
     "data": {
      "text/html": [
       "<div>\n",
       "<style scoped>\n",
       "    .dataframe tbody tr th:only-of-type {\n",
       "        vertical-align: middle;\n",
       "    }\n",
       "\n",
       "    .dataframe tbody tr th {\n",
       "        vertical-align: top;\n",
       "    }\n",
       "\n",
       "    .dataframe thead th {\n",
       "        text-align: right;\n",
       "    }\n",
       "</style>\n",
       "<table border=\"1\" class=\"dataframe\">\n",
       "  <thead>\n",
       "    <tr style=\"text-align: right;\">\n",
       "      <th></th>\n",
       "      <th>AAPL</th>\n",
       "      <th>MSFT</th>\n",
       "      <th>GOOGL</th>\n",
       "    </tr>\n",
       "    <tr>\n",
       "      <th>Date</th>\n",
       "      <th></th>\n",
       "      <th></th>\n",
       "      <th></th>\n",
       "    </tr>\n",
       "  </thead>\n",
       "  <tbody>\n",
       "    <tr>\n",
       "      <th>2020-01-02</th>\n",
       "      <td>72.796005</td>\n",
       "      <td>153.630692</td>\n",
       "      <td>68.264961</td>\n",
       "    </tr>\n",
       "    <tr>\n",
       "      <th>2020-01-03</th>\n",
       "      <td>72.088295</td>\n",
       "      <td>151.717743</td>\n",
       "      <td>67.907845</td>\n",
       "    </tr>\n",
       "    <tr>\n",
       "      <th>2020-01-06</th>\n",
       "      <td>72.662704</td>\n",
       "      <td>152.109863</td>\n",
       "      <td>69.717865</td>\n",
       "    </tr>\n",
       "    <tr>\n",
       "      <th>2020-01-07</th>\n",
       "      <td>72.320969</td>\n",
       "      <td>150.723007</td>\n",
       "      <td>69.583206</td>\n",
       "    </tr>\n",
       "    <tr>\n",
       "      <th>2020-01-08</th>\n",
       "      <td>73.484344</td>\n",
       "      <td>153.123749</td>\n",
       "      <td>70.078476</td>\n",
       "    </tr>\n",
       "  </tbody>\n",
       "</table>\n",
       "</div>"
      ],
      "text/plain": [
       "                 AAPL        MSFT      GOOGL\n",
       "Date                                        \n",
       "2020-01-02  72.796005  153.630692  68.264961\n",
       "2020-01-03  72.088295  151.717743  67.907845\n",
       "2020-01-06  72.662704  152.109863  69.717865\n",
       "2020-01-07  72.320969  150.723007  69.583206\n",
       "2020-01-08  73.484344  153.123749  70.078476"
      ]
     },
     "metadata": {},
     "output_type": "display_data"
    }
   ],
   "source": [
    "display(hist_data.head())"
   ]
  },
  {
   "cell_type": "markdown",
   "metadata": {},
   "source": [
    "## Calculate Log Returns\n",
    "$$\n",
    "\\text{Log Returns} = \\ln\\left(\\frac{P_t}{P_{t-1}}\\right)\n",
    "$$\n",
    "\n"
   ]
  },
  {
   "cell_type": "code",
   "execution_count": 12,
   "metadata": {},
   "outputs": [
    {
     "data": {
      "text/html": [
       "<div>\n",
       "<style scoped>\n",
       "    .dataframe tbody tr th:only-of-type {\n",
       "        vertical-align: middle;\n",
       "    }\n",
       "\n",
       "    .dataframe tbody tr th {\n",
       "        vertical-align: top;\n",
       "    }\n",
       "\n",
       "    .dataframe thead th {\n",
       "        text-align: right;\n",
       "    }\n",
       "</style>\n",
       "<table border=\"1\" class=\"dataframe\">\n",
       "  <thead>\n",
       "    <tr style=\"text-align: right;\">\n",
       "      <th></th>\n",
       "      <th>AAPL</th>\n",
       "      <th>MSFT</th>\n",
       "      <th>GOOGL</th>\n",
       "    </tr>\n",
       "    <tr>\n",
       "      <th>Date</th>\n",
       "      <th></th>\n",
       "      <th></th>\n",
       "      <th></th>\n",
       "    </tr>\n",
       "  </thead>\n",
       "  <tbody>\n",
       "    <tr>\n",
       "      <th>2020-01-03</th>\n",
       "      <td>-0.009769</td>\n",
       "      <td>-0.012530</td>\n",
       "      <td>-0.005245</td>\n",
       "    </tr>\n",
       "    <tr>\n",
       "      <th>2020-01-06</th>\n",
       "      <td>0.007937</td>\n",
       "      <td>0.002581</td>\n",
       "      <td>0.026305</td>\n",
       "    </tr>\n",
       "    <tr>\n",
       "      <th>2020-01-07</th>\n",
       "      <td>-0.004714</td>\n",
       "      <td>-0.009159</td>\n",
       "      <td>-0.001933</td>\n",
       "    </tr>\n",
       "    <tr>\n",
       "      <th>2020-01-08</th>\n",
       "      <td>0.015958</td>\n",
       "      <td>0.015803</td>\n",
       "      <td>0.007092</td>\n",
       "    </tr>\n",
       "    <tr>\n",
       "      <th>2020-01-09</th>\n",
       "      <td>0.021018</td>\n",
       "      <td>0.012415</td>\n",
       "      <td>0.010443</td>\n",
       "    </tr>\n",
       "  </tbody>\n",
       "</table>\n",
       "</div>"
      ],
      "text/plain": [
       "                AAPL      MSFT     GOOGL\n",
       "Date                                    \n",
       "2020-01-03 -0.009769 -0.012530 -0.005245\n",
       "2020-01-06  0.007937  0.002581  0.026305\n",
       "2020-01-07 -0.004714 -0.009159 -0.001933\n",
       "2020-01-08  0.015958  0.015803  0.007092\n",
       "2020-01-09  0.021018  0.012415  0.010443"
      ]
     },
     "metadata": {},
     "output_type": "display_data"
    }
   ],
   "source": [
    "log_returns = np.log(hist_data / hist_data.shift(1))\n",
    "log_returns.dropna(inplace=True)\n",
    "\n",
    "display(log_returns.head())\n"
   ]
  },
  {
   "cell_type": "markdown",
   "metadata": {},
   "source": [
    "We define a portfolio as $X$ such that:\n",
    "$$\n",
    "x_A + x_B + x_C = 1\n",
    "$$\n",
    "\n",
    "The return of the portfolio is then:\n",
    "\n",
    "$$\n",
    "\\mu_{p,x} = E[R_{p,x}] = x_A \\mu_A + x_B \\mu_B + x_C \\mu_C\n",
    "$$\n",
    "\n",
    "And the variance of the portfolio is:\n",
    "\n",
    "$$\n",
    "\\sigma_{p,x}^2 = \\text{Var}[R_{p,x}] = x_A^2 \\sigma_A^2 + x_B^2 \\sigma_B^2 + x_C^2 \\sigma_C^2 + 2 x_A x_B \\sigma_{AB} + 2 x_A x_C \\sigma_{AC} + 2 x_B x_C \\sigma_{BC}\n",
    "$$"
   ]
  },
  {
   "cell_type": "markdown",
   "metadata": {},
   "source": [
    "## Finding Expected Returns (mean)\n",
    "$$E[\\mathbf{R}] = E \\left[ \\begin{pmatrix} R_A \\\\ R_B \\\\ R_C \\end{pmatrix} \\right] = \\begin{pmatrix} E[R_A] \\\\ E[R_B] \\\\ E[R_C] \\end{pmatrix} = \\begin{pmatrix} \\mu_A \\\\ \\mu_B \\\\ \\mu_C \\end{pmatrix} = \\mu,$$\n"
   ]
  },
  {
   "cell_type": "code",
   "execution_count": 61,
   "metadata": {},
   "outputs": [
    {
     "data": {
      "text/html": [
       "<div>\n",
       "<style scoped>\n",
       "    .dataframe tbody tr th:only-of-type {\n",
       "        vertical-align: middle;\n",
       "    }\n",
       "\n",
       "    .dataframe tbody tr th {\n",
       "        vertical-align: top;\n",
       "    }\n",
       "\n",
       "    .dataframe thead th {\n",
       "        text-align: right;\n",
       "    }\n",
       "</style>\n",
       "<table border=\"1\" class=\"dataframe\">\n",
       "  <thead>\n",
       "    <tr style=\"text-align: right;\">\n",
       "      <th></th>\n",
       "      <th>Annual Return</th>\n",
       "    </tr>\n",
       "  </thead>\n",
       "  <tbody>\n",
       "    <tr>\n",
       "      <th>AAPL</th>\n",
       "      <td>0.240948</td>\n",
       "    </tr>\n",
       "    <tr>\n",
       "      <th>MSFT</th>\n",
       "      <td>0.206719</td>\n",
       "    </tr>\n",
       "    <tr>\n",
       "      <th>GOOGL</th>\n",
       "      <td>0.184760</td>\n",
       "    </tr>\n",
       "  </tbody>\n",
       "</table>\n",
       "</div>"
      ],
      "text/plain": [
       "       Annual Return\n",
       "AAPL        0.240948\n",
       "MSFT        0.206719\n",
       "GOOGL       0.184760"
      ]
     },
     "metadata": {},
     "output_type": "display_data"
    }
   ],
   "source": [
    "expected_returns = pd.DataFrame(log_returns.mean(), columns=['Annual Return']) * 252\n",
    "display(expected_returns)\n"
   ]
  },
  {
   "cell_type": "markdown",
   "metadata": {},
   "source": [
    "## Finding Covariance Matrix\n",
    "\n",
    "\n",
    " $$\\text{var}(\\mathbf{R}) = \\begin{pmatrix} \n",
    " \\text{var}(R_A) & \\text{cov}(R_A, R_B) & \\text{cov}(R_A, R_C) \\\\ \n",
    " \\text{cov}(R_B, R_A) & \\text{var}(R_B) & \\text{cov}(R_B, R_C) \\\\ \n",
    " \\text{cov}(R_C, R_A) & \\text{cov}(R_C, R_B) & \\text{var}(R_C) \n",
    " \\end{pmatrix}$$\n",
    " \n",
    " $$= \\begin{pmatrix} \n",
    " \\sigma_A^2 & \\sigma_{AB} & \\sigma_{AC} \\\\ \n",
    " \\sigma_{AB} & \\sigma_B^2 & \\sigma_{BC} \\\\ \n",
    " \\sigma_{AC} & \\sigma_{BC} & \\sigma_C^2 \n",
    " \\end{pmatrix} = \\Sigma.$$\n"
   ]
  },
  {
   "cell_type": "code",
   "execution_count": 62,
   "metadata": {},
   "outputs": [
    {
     "data": {
      "text/html": [
       "<div>\n",
       "<style scoped>\n",
       "    .dataframe tbody tr th:only-of-type {\n",
       "        vertical-align: middle;\n",
       "    }\n",
       "\n",
       "    .dataframe tbody tr th {\n",
       "        vertical-align: top;\n",
       "    }\n",
       "\n",
       "    .dataframe thead th {\n",
       "        text-align: right;\n",
       "    }\n",
       "</style>\n",
       "<table border=\"1\" class=\"dataframe\">\n",
       "  <thead>\n",
       "    <tr style=\"text-align: right;\">\n",
       "      <th></th>\n",
       "      <th>AAPL</th>\n",
       "      <th>MSFT</th>\n",
       "      <th>GOOGL</th>\n",
       "    </tr>\n",
       "  </thead>\n",
       "  <tbody>\n",
       "    <tr>\n",
       "      <th>AAPL</th>\n",
       "      <td>0.101462</td>\n",
       "      <td>0.073438</td>\n",
       "      <td>0.067976</td>\n",
       "    </tr>\n",
       "    <tr>\n",
       "      <th>MSFT</th>\n",
       "      <td>0.073438</td>\n",
       "      <td>0.094101</td>\n",
       "      <td>0.074917</td>\n",
       "    </tr>\n",
       "    <tr>\n",
       "      <th>GOOGL</th>\n",
       "      <td>0.067976</td>\n",
       "      <td>0.074917</td>\n",
       "      <td>0.105434</td>\n",
       "    </tr>\n",
       "  </tbody>\n",
       "</table>\n",
       "</div>"
      ],
      "text/plain": [
       "           AAPL      MSFT     GOOGL\n",
       "AAPL   0.101462  0.073438  0.067976\n",
       "MSFT   0.073438  0.094101  0.074917\n",
       "GOOGL  0.067976  0.074917  0.105434"
      ]
     },
     "metadata": {},
     "output_type": "display_data"
    }
   ],
   "source": [
    "cov_matrix = log_returns.cov() * 252\n",
    "display(cov_matrix)\n"
   ]
  },
  {
   "cell_type": "markdown",
   "metadata": {},
   "source": [
    "## Variance of Portfolio\n",
    "\n",
    "the variance of the portfolio is given by:\n",
    "\n",
    "$$\n",
    "\\sigma_{p,x}^2 = \\mathbf{w}^T \\Sigma \\mathbf{w}\n",
    "$$\n"
   ]
  },
  {
   "cell_type": "code",
   "execution_count": 63,
   "metadata": {},
   "outputs": [],
   "source": [
    "def calculate_variance(weights: np.ndarray) -> float:\n",
    "    return weights.T @ cov_matrix @ weights\n"
   ]
  },
  {
   "cell_type": "markdown",
   "metadata": {},
   "source": [
    "## Expected return of a portfolio\n",
    "\n",
    "$$\n",
    "\\mu_{p,x} = \\mathbf{w}^T \\mu\n",
    "$$\n"
   ]
  },
  {
   "cell_type": "code",
   "execution_count": 64,
   "metadata": {},
   "outputs": [],
   "source": [
    "def calculate_expected_return(weights: np.ndarray, returns: np.ndarray) -> float:\n",
    "    return weights.T @ returns\n"
   ]
  },
  {
   "cell_type": "markdown",
   "metadata": {},
   "source": [
    "## Generate 10000 random portfolios and plot the variance vs expected return"
   ]
  },
  {
   "cell_type": "code",
   "execution_count": 72,
   "metadata": {},
   "outputs": [
    {
     "data": {
      "image/png": "[encoded data removed]",
      "text/plain": [
       "<Figure size 1000x600 with 1 Axes>"
      ]
     },
     "metadata": {},
     "output_type": "display_data"
    }
   ],
   "source": [
    "\n",
    "\n",
    "import matplotlib.pyplot as plt\n",
    "\n",
    "variances = []\n",
    "portfolio_returns = []\n",
    "return_array = np.array(expected_returns[\"Annual Return\"])\n",
    "\n",
    "\n",
    "for i in range(10000):\n",
    "    weights = np.random.random(len(tickers))\n",
    "    weights /= np.sum(weights)\n",
    "    variances.append(calculate_variance(weights))\n",
    "    returns = expected_returns[\"Annual Return\"]\n",
    "    portfolio_returns.append(calculate_expected_return(weights, returns))\n",
    "\n",
    "plt.figure(figsize=(10, 6))\n",
    "plt.scatter(variances, portfolio_returns, c='blue', marker='o')\n",
    "plt.xlabel('Variance')\n",
    "plt.ylabel('Expected Return')\n",
    "plt.title('Portfolio Variance vs Expected Return')\n",
    "plt.show()\n",
    "\n"
   ]
  },
  {
   "cell_type": "markdown",
   "metadata": {},
   "source": [
    "https://faculty.washington.edu/ezivot/econ424/portfolioTheoryMatrix.pdf\n",
    "\n",
    "https://scholarship.richmond.edu/cgi/viewcontent.cgi?article=1018&context=finance-faculty-publications\n"
   ]
  },
  {
   "cell_type": "markdown",
   "metadata": {},
   "source": []
  }
 ],
 "metadata": {
  "kernelspec": {
   "display_name": ".venv",
   "language": "python",
   "name": "python3"
  },
  "language_info": {
   "codemirror_mode": {
    "name": "ipython",
    "version": 3
   },
   "file_extension": ".py",
   "mimetype": "text/x-python",
   "name": "python",
   "nbconvert_exporter": "python",
   "pygments_lexer": "ipython3",
   "version": "3.12.3"
  }
 },
 "nbformat": 4,
 "nbformat_minor": 2
}
